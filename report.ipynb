{
 "cells": [
  {
   "cell_type": "code",
   "execution_count": 1,
   "source": [
    "import pandas as pd\n",
    "import os\n",
    "import matplotlib.pyplot as plt"
   ],
   "outputs": [],
   "metadata": {}
  },
  {
   "cell_type": "code",
   "execution_count": 2,
   "source": [
    "path  = input('Input your data path here: ')"
   ],
   "outputs": [],
   "metadata": {}
  },
  {
   "cell_type": "markdown",
   "source": [
    "# Task 2: Clean and Preprocess data"
   ],
   "metadata": {}
  },
  {
   "cell_type": "markdown",
   "source": [
    "## Task 2.1: Merge 12-month data"
   ],
   "metadata": {}
  },
  {
   "cell_type": "code",
   "execution_count": 3,
   "source": [
    "# Create a list contains all data frame (file csv month 1 to 12)\n",
    "list_all_data_frame = []\n",
    "all_length = []\n",
    "for file in os.listdir(path):\n",
    "    if file.endswith('.csv'):\n",
    "        filepath = path +'/'+ file\n",
    "        dataframe_1month = pd.read_csv(filepath)\n",
    "        # Add data frame 1 month to list all data frame\n",
    "        list_all_data_frame.append(dataframe_1month)\n",
    "        # Merge all data frame in list\n",
    "        mergered_df = pd.concat(list_all_data_frame)\n",
    "        \n",
    "        length_1month = len(dataframe_1month.index)\n",
    "        all_length.append(length_1month)"
   ],
   "outputs": [],
   "metadata": {}
  },
  {
   "cell_type": "code",
   "execution_count": 4,
   "source": [
    "# Check len data frame, in order not to miss data\n",
    "if len(mergered_df) == sum(all_length):\n",
    "    print('Not missing data')\n",
    "else:\n",
    "    print('Missing data')"
   ],
   "outputs": [
    {
     "output_type": "stream",
     "name": "stdout",
     "text": [
      "Not missing data\n"
     ]
    }
   ],
   "metadata": {}
  },
  {
   "cell_type": "code",
   "execution_count": 5,
   "source": [
    "# Create csv file name 'annualSales2019.csv', remove index \n",
    "mergered_df.to_csv('annualSales2019.csv',index =False)"
   ],
   "outputs": [],
   "metadata": {}
  },
  {
   "cell_type": "markdown",
   "source": [
    "## Task 2.2: Add 'Month' column"
   ],
   "metadata": {}
  },
  {
   "cell_type": "code",
   "execution_count": 6,
   "source": [
    "df  = mergered_df\n",
    "df.info()"
   ],
   "outputs": [
    {
     "output_type": "stream",
     "name": "stdout",
     "text": [
      "<class 'pandas.core.frame.DataFrame'>\n",
      "Int64Index: 186850 entries, 0 to 20378\n",
      "Data columns (total 6 columns):\n",
      " #   Column            Non-Null Count   Dtype \n",
      "---  ------            --------------   ----- \n",
      " 0   Order ID          186305 non-null  object\n",
      " 1   Product           186305 non-null  object\n",
      " 2   Quantity Ordered  186305 non-null  object\n",
      " 3   Price Each        186305 non-null  object\n",
      " 4   Order Date        186305 non-null  object\n",
      " 5   Purchase Address  186305 non-null  object\n",
      "dtypes: object(6)\n",
      "memory usage: 10.0+ MB\n"
     ]
    }
   ],
   "metadata": {}
  },
  {
   "cell_type": "code",
   "execution_count": 7,
   "source": [
    "# str[0:2] is the first and second char in 'Order Date'\n",
    "df['Month']= df['Order Date'].str[0:2]\n",
    "df['Month'].unique()"
   ],
   "outputs": [
    {
     "output_type": "execute_result",
     "data": {
      "text/plain": [
       "array(['03', '04', 'Or', nan, '05', '06', '01', '02', '07', '08', '09',\n",
       "       '12', '11', '10'], dtype=object)"
      ]
     },
     "metadata": {},
     "execution_count": 7
    }
   ],
   "metadata": {}
  },
  {
   "cell_type": "markdown",
   "source": [
    "## Task 2.3: Get rid of 'nan' and 'or' value"
   ],
   "metadata": {}
  },
  {
   "cell_type": "code",
   "execution_count": 8,
   "source": [
    "# Get rid of 'nan'\n",
    "df= df.dropna(how='all')\n",
    "# Get rid of 'or'\n",
    "df = df[df.Month!='Or']\n",
    "print('Drop',len(mergered_df) - len(df), \"'nan' and 'or'  values\")"
   ],
   "outputs": [
    {
     "output_type": "stream",
     "name": "stdout",
     "text": [
      "Drop 900 'nan' and 'or'  values\n"
     ]
    }
   ],
   "metadata": {}
  },
  {
   "cell_type": "code",
   "execution_count": 9,
   "source": [
    "# Convert dataframe string to interger type\n",
    "df.Month = pd.to_numeric(df.Month)"
   ],
   "outputs": [],
   "metadata": {}
  },
  {
   "cell_type": "markdown",
   "source": [
    "# Task 3: Reporting"
   ],
   "metadata": {}
  },
  {
   "cell_type": "markdown",
   "source": [
    "## Task 3.1: What was the best month for sales? How much was earned that month?"
   ],
   "metadata": {}
  },
  {
   "cell_type": "code",
   "execution_count": 10,
   "source": [
    "# Check Quantity Ordered type\n",
    "df['Quantity Ordered'].describe()"
   ],
   "outputs": [
    {
     "output_type": "execute_result",
     "data": {
      "text/plain": [
       "count     185950\n",
       "unique         9\n",
       "top            1\n",
       "freq      168552\n",
       "Name: Quantity Ordered, dtype: object"
      ]
     },
     "metadata": {},
     "execution_count": 10
    }
   ],
   "metadata": {}
  },
  {
   "cell_type": "code",
   "execution_count": 11,
   "source": [
    "# Check Price Each type\n",
    "df['Price Each'].describe()"
   ],
   "outputs": [
    {
     "output_type": "execute_result",
     "data": {
      "text/plain": [
       "count     185950\n",
       "unique        23\n",
       "top        11.95\n",
       "freq       21903\n",
       "Name: Price Each, dtype: object"
      ]
     },
     "metadata": {},
     "execution_count": 11
    }
   ],
   "metadata": {}
  },
  {
   "cell_type": "code",
   "execution_count": 12,
   "source": [
    "# Convert Quantity Ordered & Price Each column datatype from string to interger\n",
    "df['Quantity Ordered'] = pd.to_numeric(df['Quantity Ordered'])\n",
    "df['Price Each'] = pd.to_numeric(df['Price Each'])"
   ],
   "outputs": [],
   "metadata": {}
  },
  {
   "cell_type": "code",
   "execution_count": 13,
   "source": [
    "# Sales = Quantity Ordered * Price Each\n",
    "df_sales = df['Quantity Ordered'] * df['Price Each']\n",
    "df_sales.head()"
   ],
   "outputs": [
    {
     "output_type": "execute_result",
     "data": {
      "text/plain": [
       "0    700.00\n",
       "1     14.95\n",
       "2     23.98\n",
       "3     99.99\n",
       "4    379.99\n",
       "dtype: float64"
      ]
     },
     "metadata": {},
     "execution_count": 13
    }
   ],
   "metadata": {}
  },
  {
   "cell_type": "code",
   "execution_count": 14,
   "source": [
    "# Insert column at index 4 with name 'Sales'\n",
    "sales_index_column = 4\n",
    "df.insert(sales_index_column,'Sales',df_sales)"
   ],
   "outputs": [],
   "metadata": {}
  },
  {
   "cell_type": "code",
   "execution_count": 15,
   "source": [
    "def draw_bar_chart(x_axis,y_axis,x_name= None, y_name = None):\n",
    "    plt.bar(x = x_axis, height = y_axis, color = 'green')\n",
    "    plt.xticks(x_axis,rotation = 90)\n",
    "    plt.xlabel(x_name)\n",
    "    plt.ylabel(y_name)\n",
    "    plt.show()"
   ],
   "outputs": [],
   "metadata": {}
  },
  {
   "cell_type": "code",
   "execution_count": 16,
   "source": [
    "# Group and calculate sum sales each month\n",
    "sales_value_month = df.groupby('Month').sum()['Sales']\n",
    "months = sales_value_month.index\n",
    "draw_bar_chart(months,sales_value_month,'Months','Sale in USD')"
   ],
   "outputs": [
    {
     "output_type": "display_data",
     "data": {
      "image/png": "[encoded data removed]",
      "text/plain": [
       "<Figure size 432x288 with 1 Axes>"
      ]
     },
     "metadata": {
      "needs_background": "light"
     }
    }
   ],
   "metadata": {}
  },
  {
   "cell_type": "code",
   "execution_count": 17,
   "source": [
    "print('The best month for sales is',sales_value_month.idxmax())\n",
    "print(sales_value_month.max(),'was earned that month')"
   ],
   "outputs": [
    {
     "output_type": "stream",
     "name": "stdout",
     "text": [
      "The best month for sales is 12\n",
      "4613443.34 was earned that month\n"
     ]
    }
   ],
   "metadata": {}
  },
  {
   "cell_type": "markdown",
   "source": [
    "## Task 3.2: What city has the best sales?"
   ],
   "metadata": {}
  },
  {
   "cell_type": "code",
   "execution_count": 18,
   "source": [
    "# Slice string pandas by condition\n",
    "# Realize the city before the first ', '\n",
    "city_index = 1\n",
    "address_to_city = df['Purchase Address'].str.split(', ', expand =True)[city_index]\n",
    "df['City'] = address_to_city\n",
    "df['City']"
   ],
   "outputs": [
    {
     "output_type": "execute_result",
     "data": {
      "text/plain": [
       "0               Austin\n",
       "1               Austin\n",
       "2               Austin\n",
       "3        San Francisco\n",
       "4        San Francisco\n",
       "             ...      \n",
       "20374    San Francisco\n",
       "20375      Los Angeles\n",
       "20376    San Francisco\n",
       "20377          Seattle\n",
       "20378      Los Angeles\n",
       "Name: City, Length: 185950, dtype: object"
      ]
     },
     "metadata": {},
     "execution_count": 18
    }
   ],
   "metadata": {}
  },
  {
   "cell_type": "code",
   "execution_count": 19,
   "source": [
    "sales_value_city = df.groupby('City').sum()['Sales']\n",
    "cities = sales_value_city.index\n",
    "draw_bar_chart(cities,sales_value_city,'Cities','Sales in USD')"
   ],
   "outputs": [
    {
     "output_type": "display_data",
     "data": {
      "image/png": "[encoded data removed]",
      "text/plain": [
       "<Figure size 432x288 with 1 Axes>"
      ]
     },
     "metadata": {
      "needs_background": "light"
     }
    }
   ],
   "metadata": {}
  },
  {
   "cell_type": "code",
   "execution_count": 20,
   "source": [
    "print(sales_value_city.idxmax(),\"has the best sales.\")"
   ],
   "outputs": [
    {
     "output_type": "stream",
     "name": "stdout",
     "text": [
      "San Francisco has the best sales.\n"
     ]
    }
   ],
   "metadata": {}
  },
  {
   "cell_type": "markdown",
   "source": [
    "## Task 3.3: What time should we display ads to maximize the likelihood of customer's buying product?"
   ],
   "metadata": {}
  },
  {
   "cell_type": "code",
   "execution_count": 21,
   "source": [
    "hour_index = 1\n",
    "# Split datetime from Order Date\n",
    "datetime_to_time = df['Order Date'].str.split(' ',expand = True)[hour_index]\n",
    "# Split hour from datetime\n",
    "df['Hours'] =datetime_to_time.str[0:2]\n",
    "df['Hours']"
   ],
   "outputs": [
    {
     "output_type": "execute_result",
     "data": {
      "text/plain": [
       "0        20\n",
       "1        20\n",
       "2        20\n",
       "3        05\n",
       "4        00\n",
       "         ..\n",
       "20374    04\n",
       "20375    22\n",
       "20376    20\n",
       "20377    17\n",
       "20378    11\n",
       "Name: Hours, Length: 185950, dtype: object"
      ]
     },
     "metadata": {},
     "execution_count": 21
    }
   ],
   "metadata": {}
  },
  {
   "cell_type": "code",
   "execution_count": 22,
   "source": [
    "# Convert Hours column datatype to interger\n",
    "df['Hours'] = pd.to_numeric(df['Hours'])"
   ],
   "outputs": [],
   "metadata": {}
  },
  {
   "cell_type": "code",
   "execution_count": 23,
   "source": [
    "# Note in this question you need to figure out what time have much order not total sales\n",
    "# So use count func instead of sum func here\n",
    "sales_value_hour = df.groupby('Hours').count()['Sales']\n",
    "hours  = sales_value_hour.index\n",
    "draw_bar_chart(hours,sales_value_hour,'Hours','Sales in USD')"
   ],
   "outputs": [
    {
     "output_type": "display_data",
     "data": {
      "image/png": "[encoded data removed]",
      "text/plain": [
       "<Figure size 432x288 with 1 Axes>"
      ]
     },
     "metadata": {
      "needs_background": "light"
     }
    }
   ],
   "metadata": {}
  },
  {
   "cell_type": "code",
   "execution_count": 24,
   "source": [
    "hours  = sales_value_hour.index\n",
    "# Plot chart\n",
    "plt.plot(hours, sales_value_hour,color = 'red')\n",
    "plt.grid()\n",
    "plt.xticks(hours, size = 8)\n",
    "plt.xlabel('Hours')\n",
    "plt.ylabel('Sales in USD')\n",
    "plt.show()\n",
    "# time"
   ],
   "outputs": [
    {
     "output_type": "display_data",
     "data": {
      "image/png": "[encoded data removed]",
      "text/plain": [
       "<Figure size 432x288 with 1 Axes>"
      ]
     },
     "metadata": {
      "needs_background": "light"
     }
    }
   ],
   "metadata": {}
  },
  {
   "cell_type": "markdown",
   "source": [
    "## Task 3.4: What products are most often sold together?"
   ],
   "metadata": {}
  },
  {
   "cell_type": "code",
   "execution_count": 25,
   "source": [
    "# How to find duplicates in pandas\n",
    "df_dup = df[df['Order ID'].duplicated(keep=False)]"
   ],
   "outputs": [],
   "metadata": {}
  },
  {
   "cell_type": "code",
   "execution_count": 26,
   "source": [
    "df_dup['All Products']= df_dup.groupby('Order ID')['Product'].apply(','.join)\n",
    "# The All Products only return NaN because apply() return Dataframe but column need series\n",
    "df_dup.head()"
   ],
   "outputs": [
    {
     "output_type": "stream",
     "name": "stderr",
     "text": [
      "/tmp/ipykernel_59924/3071745704.py:1: SettingWithCopyWarning: \n",
      "A value is trying to be set on a copy of a slice from a DataFrame.\n",
      "Try using .loc[row_indexer,col_indexer] = value instead\n",
      "\n",
      "See the caveats in the documentation: https://pandas.pydata.org/pandas-docs/stable/user_guide/indexing.html#returning-a-view-versus-a-copy\n",
      "  df_dup['All Products']= df_dup.groupby('Order ID')['Product'].apply(','.join)\n"
     ]
    },
    {
     "output_type": "execute_result",
     "data": {
      "text/html": [
       "<div>\n",
       "<style scoped>\n",
       "    .dataframe tbody tr th:only-of-type {\n",
       "        vertical-align: middle;\n",
       "    }\n",
       "\n",
       "    .dataframe tbody tr th {\n",
       "        vertical-align: top;\n",
       "    }\n",
       "\n",
       "    .dataframe thead th {\n",
       "        text-align: right;\n",
       "    }\n",
       "</style>\n",
       "<table border=\"1\" class=\"dataframe\">\n",
       "  <thead>\n",
       "    <tr style=\"text-align: right;\">\n",
       "      <th></th>\n",
       "      <th>Order ID</th>\n",
       "      <th>Product</th>\n",
       "      <th>Quantity Ordered</th>\n",
       "      <th>Price Each</th>\n",
       "      <th>Sales</th>\n",
       "      <th>Order Date</th>\n",
       "      <th>Purchase Address</th>\n",
       "      <th>Month</th>\n",
       "      <th>City</th>\n",
       "      <th>Hours</th>\n",
       "      <th>All Products</th>\n",
       "    </tr>\n",
       "  </thead>\n",
       "  <tbody>\n",
       "    <tr>\n",
       "      <th>0</th>\n",
       "      <td>162009</td>\n",
       "      <td>iPhone</td>\n",
       "      <td>1</td>\n",
       "      <td>700.00</td>\n",
       "      <td>700.00</td>\n",
       "      <td>03/28/19 20:59</td>\n",
       "      <td>942 Church St, Austin, TX 73301</td>\n",
       "      <td>3</td>\n",
       "      <td>Austin</td>\n",
       "      <td>20</td>\n",
       "      <td>NaN</td>\n",
       "    </tr>\n",
       "    <tr>\n",
       "      <th>1</th>\n",
       "      <td>162009</td>\n",
       "      <td>Lightning Charging Cable</td>\n",
       "      <td>1</td>\n",
       "      <td>14.95</td>\n",
       "      <td>14.95</td>\n",
       "      <td>03/28/19 20:59</td>\n",
       "      <td>942 Church St, Austin, TX 73301</td>\n",
       "      <td>3</td>\n",
       "      <td>Austin</td>\n",
       "      <td>20</td>\n",
       "      <td>NaN</td>\n",
       "    </tr>\n",
       "    <tr>\n",
       "      <th>2</th>\n",
       "      <td>162009</td>\n",
       "      <td>Wired Headphones</td>\n",
       "      <td>2</td>\n",
       "      <td>11.99</td>\n",
       "      <td>23.98</td>\n",
       "      <td>03/28/19 20:59</td>\n",
       "      <td>942 Church St, Austin, TX 73301</td>\n",
       "      <td>3</td>\n",
       "      <td>Austin</td>\n",
       "      <td>20</td>\n",
       "      <td>NaN</td>\n",
       "    </tr>\n",
       "    <tr>\n",
       "      <th>30</th>\n",
       "      <td>162037</td>\n",
       "      <td>iPhone</td>\n",
       "      <td>1</td>\n",
       "      <td>700.00</td>\n",
       "      <td>700.00</td>\n",
       "      <td>03/23/19 02:11</td>\n",
       "      <td>277 Elm St, Los Angeles, CA 90001</td>\n",
       "      <td>3</td>\n",
       "      <td>Los Angeles</td>\n",
       "      <td>2</td>\n",
       "      <td>NaN</td>\n",
       "    </tr>\n",
       "    <tr>\n",
       "      <th>31</th>\n",
       "      <td>162037</td>\n",
       "      <td>Lightning Charging Cable</td>\n",
       "      <td>1</td>\n",
       "      <td>14.95</td>\n",
       "      <td>14.95</td>\n",
       "      <td>03/23/19 02:11</td>\n",
       "      <td>277 Elm St, Los Angeles, CA 90001</td>\n",
       "      <td>3</td>\n",
       "      <td>Los Angeles</td>\n",
       "      <td>2</td>\n",
       "      <td>NaN</td>\n",
       "    </tr>\n",
       "  </tbody>\n",
       "</table>\n",
       "</div>"
      ],
      "text/plain": [
       "   Order ID                   Product  Quantity Ordered  Price Each   Sales  \\\n",
       "0    162009                    iPhone                 1      700.00  700.00   \n",
       "1    162009  Lightning Charging Cable                 1       14.95   14.95   \n",
       "2    162009          Wired Headphones                 2       11.99   23.98   \n",
       "30   162037                    iPhone                 1      700.00  700.00   \n",
       "31   162037  Lightning Charging Cable                 1       14.95   14.95   \n",
       "\n",
       "        Order Date                   Purchase Address  Month         City  \\\n",
       "0   03/28/19 20:59    942 Church St, Austin, TX 73301      3       Austin   \n",
       "1   03/28/19 20:59    942 Church St, Austin, TX 73301      3       Austin   \n",
       "2   03/28/19 20:59    942 Church St, Austin, TX 73301      3       Austin   \n",
       "30  03/23/19 02:11  277 Elm St, Los Angeles, CA 90001      3  Los Angeles   \n",
       "31  03/23/19 02:11  277 Elm St, Los Angeles, CA 90001      3  Los Angeles   \n",
       "\n",
       "    Hours All Products  \n",
       "0      20          NaN  \n",
       "1      20          NaN  \n",
       "2      20          NaN  \n",
       "30      2          NaN  \n",
       "31      2          NaN  "
      ]
     },
     "metadata": {},
     "execution_count": 26
    }
   ],
   "metadata": {}
  },
  {
   "cell_type": "code",
   "execution_count": 27,
   "source": [
    "# How to combine multiple row in one rowpandas\n",
    "\n",
    "# Create a function for transform function in order to join values together\n",
    "groupProduct = lambda product:  ', '.join(product)\n",
    "# Use transform instead of apply\n",
    "# transform() need function\n",
    "df_dup['All Products']= df_dup.groupby('Order ID')['Product'].transform(groupProduct)\n"
   ],
   "outputs": [
    {
     "output_type": "stream",
     "name": "stderr",
     "text": [
      "/tmp/ipykernel_59924/4132995550.py:7: SettingWithCopyWarning: \n",
      "A value is trying to be set on a copy of a slice from a DataFrame.\n",
      "Try using .loc[row_indexer,col_indexer] = value instead\n",
      "\n",
      "See the caveats in the documentation: https://pandas.pydata.org/pandas-docs/stable/user_guide/indexing.html#returning-a-view-versus-a-copy\n",
      "  df_dup['All Products']= df_dup.groupby('Order ID')['Product'].transform(groupProduct)\n"
     ]
    }
   ],
   "metadata": {}
  },
  {
   "cell_type": "code",
   "execution_count": 28,
   "source": [
    "# How to count number of values in column pandas\n",
    "df_dup['All Products'].value_counts().head(10)"
   ],
   "outputs": [
    {
     "output_type": "execute_result",
     "data": {
      "text/plain": [
       "iPhone, Lightning Charging Cable                        1764\n",
       "Google Phone, USB-C Charging Cable                      1712\n",
       "iPhone, Wired Headphones                                 722\n",
       "Vareebadd Phone, USB-C Charging Cable                    624\n",
       "Google Phone, Wired Headphones                           606\n",
       "iPhone, Apple Airpods Headphones                         572\n",
       "Google Phone, Bose SoundSport Headphones                 322\n",
       "Google Phone, USB-C Charging Cable, Wired Headphones     231\n",
       "Vareebadd Phone, Wired Headphones                        208\n",
       "iPhone, Lightning Charging Cable, Wired Headphones       168\n",
       "Name: All Products, dtype: int64"
      ]
     },
     "metadata": {},
     "execution_count": 28
    }
   ],
   "metadata": {}
  },
  {
   "cell_type": "markdown",
   "source": [
    "## Task 3.5: What product sold the most? Why do you think it sold the most?"
   ],
   "metadata": {}
  },
  {
   "cell_type": "code",
   "execution_count": 29,
   "source": [
    "quantity= df.groupby('Product').sum()['Quantity Ordered']\n",
    "product_list =quantity.index \n",
    "draw_bar_chart(product_list,quantity)"
   ],
   "outputs": [
    {
     "output_type": "display_data",
     "data": {
      "image/png": "[encoded data removed]",
      "text/plain": [
       "<Figure size 432x288 with 1 Axes>"
      ]
     },
     "metadata": {
      "needs_background": "light"
     }
    }
   ],
   "metadata": {}
  },
  {
   "cell_type": "code",
   "execution_count": 30,
   "source": [
    "# Get price product\n",
    "prices = df.groupby('Product').mean()['Price Each']\n",
    "draw_bar_chart(product_list,prices)"
   ],
   "outputs": [
    {
     "output_type": "display_data",
     "data": {
      "image/png": "[encoded data removed]",
      "text/plain": [
       "<Figure size 432x288 with 1 Axes>"
      ]
     },
     "metadata": {
      "needs_background": "light"
     }
    }
   ],
   "metadata": {}
  },
  {
   "cell_type": "code",
   "execution_count": 31,
   "source": [
    "print(quantity.idxmax(),'sold the most')"
   ],
   "outputs": [
    {
     "output_type": "stream",
     "name": "stdout",
     "text": [
      "AAA Batteries (4-pack) sold the most\n"
     ]
    }
   ],
   "metadata": {}
  }
 ],
 "metadata": {
  "orig_nbformat": 4,
  "language_info": {
   "name": "python",
   "version": "3.8.10",
   "mimetype": "text/x-python",
   "codemirror_mode": {
    "name": "ipython",
    "version": 3
   },
   "pygments_lexer": "ipython3",
   "nbconvert_exporter": "python",
   "file_extension": ".py"
  },
  "kernelspec": {
   "name": "python3",
   "display_name": "Python 3.8.10 64-bit"
  },
  "interpreter": {
   "hash": "916dbcbb3f70747c44a77c7bcd40155683ae19c65e1c03b4aa3499c5328201f1"
  }
 },
 "nbformat": 4,
 "nbformat_minor": 2
}